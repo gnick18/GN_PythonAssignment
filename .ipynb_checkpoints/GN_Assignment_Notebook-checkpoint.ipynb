{
 "cells": [
  {
   "cell_type": "markdown",
   "metadata": {},
   "source": [
    "# **Python Assignment**\n",
    "Started: 11/20/2019  |  Due date: 11/27/2019"
   ]
  },
  {
   "cell_type": "code",
   "execution_count": 15,
   "metadata": {},
   "outputs": [],
   "source": [
    "from Bio import SeqIO\n",
    "from Bio.Data import CodonTable\n",
    "from Bio.Seq import Seq\n",
    "from Bio.Alphabet import IUPAC\n",
    "from Bio.SeqUtils import GC\n",
    "import pandas as pd\n",
    "import seaborn as sns\n",
    "import matplotlib.pyplot as plt"
   ]
  },
  {
   "cell_type": "code",
   "execution_count": 2,
   "metadata": {},
   "outputs": [],
   "source": [
    "%matplotlib inline \n",
    "# the magic command that allows you to see \n",
    "# the plots withing the jupyter notebook (must be on its own line)"
   ]
  },
  {
   "cell_type": "markdown",
   "metadata": {},
   "source": [
    "## Functions\n",
    "- all of the details on functions will be included both in the jupyter notebook markdown cells, and documented in the method itself\n",
    "- this allows individuals using the functions on other programs outside of this notebook to call \"help\" on the function and recieve descriptions of how it works"
   ]
  },
  {
   "cell_type": "markdown",
   "metadata": {},
   "source": [
    "**Function 1** = get_sequences_from_file(fasta_fn)\n",
    "\n",
    "Usage: this function takes an input of a fasta file and returns a dictionary carrying the information on the record description, species_name, and the sequence itself. It will look over the fasta file to store multiple records in the dictionary"
   ]
  },
  {
   "cell_type": "code",
   "execution_count": 3,
   "metadata": {},
   "outputs": [],
   "source": [
    "def get_sequences_from_file(fasta_fn):\n",
    "    \"\"\"Description: converts fasta file to dictionary, storing the description, species_name, and sequence\n",
    "    \n",
    "    Parameters:\n",
    "        fasta_fn  :  the fasta file containing the sequence and sample information\n",
    "    \n",
    "    Return: a dictionary that was created from fasta_fn\n",
    "    \n",
    "    Example of usage:\n",
    "        >> dictionary = get_sequences_from_file(fasta_fn)\n",
    "    \n",
    "    Output(dictionary):\n",
    "        [dictionary containing that sequences and some metadata]\n",
    "    \"\"\"\n",
    "    sequence_data_dict = {}\n",
    "    for record in SeqIO.parse(fasta_fn, \"fasta\"):\n",
    "        description = record.description.split()\n",
    "        species_name = description[1] + \" \" + description[2]\n",
    "        sequence_data_dict[species_name] = record.seq\n",
    "    return(sequence_data_dict)"
   ]
  },
  {
   "cell_type": "markdown",
   "metadata": {},
   "source": [
    "**Funtion 2**: translate_sequence(string_nucleotides)\n",
    "\n",
    "Usage: this function translates a string of nucleotides, not including stop codons in the translation if they arrise at the end of the sequence provided. This function is useful for converting a DNA sequence to an amino acid sequence.\n",
    "\n",
    "~NOTE: this function assumes it is provided with the coding strand of genomic DNA"
   ]
  },
  {
   "cell_type": "code",
   "execution_count": 4,
   "metadata": {},
   "outputs": [],
   "source": [
    "def translate_sequence(string_nucleotides):\n",
    "    \"\"\"Description: translates a string of nucleotides\n",
    "    \n",
    "    Parameters:\n",
    "        string_nucleotides  :  the string of nucleotides to be translated\n",
    "        \n",
    "    Return: returns the amino acid sequence as a string\n",
    "    \n",
    "    Example of usage:\n",
    "      >> aa_seq_string = translate_sequence(string_nucleotides)\n",
    "      >> print(aa_seq_string)\n",
    "      \n",
    "    Output (string): \n",
    "        [amino acid sequence]\n",
    "    \"\"\"\n",
    "    aa_seq_string = \"\" #this string will hole the translated sequence\n",
    "    mito_table = CodonTable.unambiguous_dna_by_name[\"Vertebrate Mitochondrial\"]\n",
    "    codon = \"\"\n",
    "    codonCounter = 0\n",
    "    for i in range(len(string_nucleotides)): \n",
    "        #this loop will make the set of three nucleotides that make up the codon\n",
    "        codon = codon + string_nucleotides[i]\n",
    "        codonCounter = codonCounter + 1\n",
    "        if(codonCounter == 3):\n",
    "            codonCounter = 0\n",
    "            #making sure the codon isn't a stop codon\n",
    "            if(codon == \"AGA\" or codon == \"AGG\" or codon == \"TAA\" or codon == \"TAG\"):\n",
    "                break\n",
    "            else:\n",
    "                aminoAcid = mito_table.forward_table[codon]\n",
    "                aa_seq_string = aa_seq_string + aminoAcid\n",
    "                codon = \"\"\n",
    "    return(aa_seq_string)"
   ]
  },
  {
   "cell_type": "markdown",
   "metadata": {},
   "source": [
    "**Function 3**: quick_translate(string_nucleotides)\n",
    "\n",
    "Usage: This function utalizes the BioPython library in order to functionally produce the same result as translate_sequence. This function is useful for converting a DNA sequence to an amino acid sequence, and will not include stop codons in its translation. \n",
    "\n",
    "NOTE: this function assumes it is provided with the coding strand of genomic DNA~"
   ]
  },
  {
   "cell_type": "code",
   "execution_count": 5,
   "metadata": {},
   "outputs": [],
   "source": [
    "def quick_translate(string_nucleotides):\n",
    "    \"\"\"Description: translates a string of nucleotides\n",
    "\n",
    "        Parameters:\n",
    "            string_nucleotides  :  the string of nucleotides to be translated\n",
    "\n",
    "        Return: returns the amino acid sequence as a string\n",
    "\n",
    "        Example of usage:\n",
    "          >> aa_seq_string = quick_translate(string_nucleotides)\n",
    "          >> print(aa_seq_string)\n",
    "\n",
    "        Output (String):\n",
    "            [amino acid sequence]\n",
    "        \"\"\"\n",
    "    mito_table = CodonTable.unambiguous_dna_by_name[\"Vertebrate Mitochondrial\"]\n",
    "    coding_dna = Seq(string_nucleotides, IUPAC.unambiguous_dna)\n",
    "    AA_sequence = coding_dna.translate(to_stop = True, table=mito_table)\n",
    "    AA_sequence_String = AA_sequence._data\n",
    "    return AA_sequence_String\n"
   ]
  },
  {
   "cell_type": "markdown",
   "metadata": {},
   "source": [
    "**Function 4**: compute_molecular_weight(aa_seq)\n",
    "\n",
    "Usage: The following function calculates the molecular weight from an amino acid sequence. It utalizes functions from BioPython's ProtParam module and thus the following must be called more using the method."
   ]
  },
  {
   "cell_type": "code",
   "execution_count": 6,
   "metadata": {},
   "outputs": [],
   "source": [
    "from Bio.SeqUtils.ProtParam import ProteinAnalysis"
   ]
  },
  {
   "cell_type": "code",
   "execution_count": 7,
   "metadata": {},
   "outputs": [],
   "source": [
    "def compute_molecular_weight(aa_seq):\n",
    "    \"\"\"Description: calculates the molecular weight from an amino acid sequence\n",
    "    \n",
    "    Parameters:\n",
    "        aa_seq : the amino acid sequence (must be string object)\n",
    "    \n",
    "    Return: returns the molecular weight of the amino acid sequence\n",
    "    \n",
    "    Example of usage:\n",
    "      >> MolecularWeight = compute_molecular_weight(aa_seq)\n",
    "      >> print(MolecularWeight)\n",
    "    \n",
    "    Output (String):\n",
    "        [molecular weight of amino acid sequence]\n",
    "    \"\"\"\n",
    "    analysed_seq = ProteinAnalysis(aa_seq)\n",
    "    weight = analysed_seq.molecular_weight()\n",
    "    return weight"
   ]
  },
  {
   "cell_type": "markdown",
   "metadata": {},
   "source": [
    "**Function 5**: GC_content(dna_sequence)\n",
    "\n",
    "Usage: Will take an input of a dna sequence and return the proportion of \"G\" and \"C\" within the DNA sequence."
   ]
  },
  {
   "cell_type": "code",
   "execution_count": 8,
   "metadata": {},
   "outputs": [],
   "source": [
    "def GC_content(dna_sequence):\n",
    "    \"\"\"Description: finds the proportion of \"G\" and \"C\" within a DNA sequence.\n",
    "\n",
    "    Parameters:\n",
    "        dna_sequence : the dna sequence (must be a string object)\n",
    "\n",
    "    Return: returns the proportion of \"G\" and \"C\" as a string\n",
    "    \"\"\"\n",
    "    seq = Seq(dna_sequence, IUPAC.unambiguous_dna)\n",
    "    gc = GC(seq)\n",
    "    return gc"
   ]
  },
  {
   "cell_type": "markdown",
   "metadata": {},
   "source": [
    "# **Main**\n",
    "\n",
    "The following is the main code analysis that is done on the provided files"
   ]
  },
  {
   "cell_type": "code",
   "execution_count": 9,
   "metadata": {},
   "outputs": [],
   "source": [
    "cytb_seqs = get_sequences_from_file(\"penguins_cytb.fasta\") \n",
    "\n",
    "penguins_df = pd.read_csv(\"penguins_mass.csv\") # Includes only data for body mass \n",
    "species_list = list(penguins_df.species)"
   ]
  },
  {
   "cell_type": "markdown",
   "metadata": {},
   "source": [
    "### **Inspection of the data**\n",
    "\n",
    "Before moving on with manipulating the data I wanted to get a better idea of what the file stored, how large it was etc. The folowing code is the inspections I conducted and what I concluded from it. "
   ]
  },
  {
   "cell_type": "code",
   "execution_count": 10,
   "metadata": {},
   "outputs": [
    {
     "name": "stdout",
     "output_type": "stream",
     "text": [
      "species     object\n",
      "mass       float64\n",
      "dtype: object\n",
      "Index(['species', 'mass'], dtype='object')\n",
      "                   species   mass\n",
      "0     Aptenodytes forsteri  28.00\n",
      "1  Aptenodytes patagonicus  13.40\n",
      "2      Eudyptes chrysocome   2.80\n",
      "3    Eudyptes chrysolophus   4.50\n",
      "4        Eudyptes sclateri   4.25\n",
      "5          Eudyptula minor   1.60\n",
      "6       Pygoscelis adeliae   4.60\n",
      "7    Pygoscelis antarctica   4.10\n",
      "8         Pygoscelis papua   6.10\n",
      "9      Spheniscus demersus   3.20\n",
      "(12, 2)\n"
     ]
    }
   ],
   "source": [
    "print(penguins_df.dtypes)\n",
    "print(penguins_df.columns)\n",
    "print(penguins_df.head(10))\n",
    "print(penguins_df.shape)"
   ]
  },
  {
   "cell_type": "markdown",
   "metadata": {},
   "source": [
    "The DataFrame object has 12 rows, and 2 columns. The columns are species and mass. "
   ]
  },
  {
   "cell_type": "code",
   "execution_count": 11,
   "metadata": {},
   "outputs": [
    {
     "name": "stdout",
     "output_type": "stream",
     "text": [
      "['Aptenodytes forsteri' 'Aptenodytes patagonicus' 'Eudyptes chrysocome'\n",
      " 'Eudyptes chrysolophus' 'Eudyptes sclateri' 'Eudyptula minor'\n",
      " 'Pygoscelis adeliae' 'Pygoscelis antarctica' 'Pygoscelis papua'\n",
      " 'Spheniscus demersus' 'Spheniscus humboldti' 'Spheniscus magellanicus']\n",
      "[28.   13.4   2.8   4.5   4.25  1.6   4.6   4.1   6.1   3.2   4.75  3.4 ]\n"
     ]
    }
   ],
   "source": [
    "print(pd.unique(penguins_df['species']))\n",
    "print(pd.unique(penguins_df['mass']))"
   ]
  },
  {
   "cell_type": "markdown",
   "metadata": {},
   "source": [
    "There appears to be 12 unique species names and masses. This indicates to me that the file does not contain mulputle measuements on the same species and instead every observation is unique in mass and species. "
   ]
  },
  {
   "cell_type": "markdown",
   "metadata": {},
   "source": [
    "### **Step 6**\n",
    "\n",
    "First we want to add two new columns into the penguin_df DataFrame object. They are:\n",
    "- molecular weight (mol_weight)\n",
    "- GC content (GC_content)\n",
    "\n",
    "The columns are initialized with the value \"NaN\" to indicate that the cells are currently empty"
   ]
  },
  {
   "cell_type": "code",
   "execution_count": 12,
   "metadata": {
    "scrolled": false
   },
   "outputs": [
    {
     "name": "stdout",
     "output_type": "stream",
     "text": [
      "                   species   mass mol_weight GC_content\n",
      "0     Aptenodytes forsteri  28.00        NaN        NaN\n",
      "1  Aptenodytes patagonicus  13.40        NaN        NaN\n",
      "2      Eudyptes chrysocome   2.80        NaN        NaN\n",
      "3    Eudyptes chrysolophus   4.50        NaN        NaN\n",
      "4        Eudyptes sclateri   4.25        NaN        NaN\n",
      "5          Eudyptula minor   1.60        NaN        NaN\n",
      "6       Pygoscelis adeliae   4.60        NaN        NaN\n",
      "7    Pygoscelis antarctica   4.10        NaN        NaN\n",
      "8         Pygoscelis papua   6.10        NaN        NaN\n",
      "9      Spheniscus demersus   3.20        NaN        NaN\n",
      "(12, 4)\n"
     ]
    }
   ],
   "source": [
    "penguins_df[\"mol_weight\"] = \"NaN\"\n",
    "penguins_df[\"GC_content\"] = \"NaN\"\n",
    "print(penguins_df.head(10))\n",
    "print(penguins_df.shape) #confirms that two new columns were added to the data frame"
   ]
  },
  {
   "cell_type": "markdown",
   "metadata": {},
   "source": [
    "### **Step 7**\n",
    "\n",
    "Now I will create a for-Loop that translates each sequence, gets the molecular weight, and computes the GC content. It will then update the values in the penguin DataFrame. \n",
    "\n",
    "NOTE: the sequences are storred in cytb_seqs in a dictionary with the key referencing the species and the value being the sequence. Thus I iterated over the dictionary, converted the value to a string, and ran it through the other functions I created earlier."
   ]
  },
  {
   "cell_type": "code",
   "execution_count": 13,
   "metadata": {},
   "outputs": [],
   "source": [
    "for key, value in cytb_seqs.items():\n",
    "    value_string = value._data #string version of the sequence\n",
    "    aa_seq = quick_translate(value_string)\n",
    "    molWeight = compute_molecular_weight(aa_seq)\n",
    "    gc = GC_content(value_string)\n",
    "    #The values will now be filled into the correct column and row\n",
    "    row = penguins_df[penguins_df.species == key].index[0] #this locates the row the species is found in the data frame\n",
    "    #filling in molecular weight\n",
    "    penguins_df.iloc[row, 2] = molWeight\n",
    "    #filling in the GC content\n",
    "    penguins_df.iloc[row, 3] = gc"
   ]
  },
  {
   "cell_type": "markdown",
   "metadata": {},
   "source": [
    "### **Step 8**\n",
    "\n",
    "Now I will plot a bar-chart of the mass with the x-axes labeled with the species names. \n",
    "\n",
    "Q1: What is the smallest penguin species\n",
    "- the smallest penguin species in the data set is the Eudyptula minor.\n",
    "\n",
    "Q2: What else is interesting about this species?\n",
    "- I found that this species, also called \"little penguin\" (which is in fact the smallest penguin in the world) can be found in Australia and New Zealand. Something interesting is the current rough estimate for the birds total population is anywhere between 350,000-600,000 animals.\n",
    "- Source: http://www.penguins.cl/little-penguins.htm"
   ]
  },
  {
   "cell_type": "code",
   "execution_count": 42,
   "metadata": {
    "scrolled": false
   },
   "outputs": [
    {
     "data": {
      "text/plain": [
       "Text(0.5, 1.0, 'Mass of the Penguins')"
      ]
     },
     "execution_count": 42,
     "metadata": {},
     "output_type": "execute_result"
    },
    {
     "data": {
      "image/png": "[encoded data removed]",
      "text/plain": [
       "<Figure size 1008x648 with 1 Axes>"
      ]
     },
     "metadata": {
      "needs_background": "light"
     },
     "output_type": "display_data"
    }
   ],
   "source": [
    "plot_dims = (14, 9)\n",
    "fig, ax = plt.subplots(figsize=plot_dims)\n",
    "massPlot = sns.barplot(data=penguins_df, x='species', y='mass')\n",
    "massPlot = massPlot.set_xticklabels(massPlot.get_xticklabels(), rotation=45)\n",
    "plt.xlabel('Species')\n",
    "plt.ylabel('Mass (g)')\n",
    "plt.title(\"Mass of the Penguins\")"
   ]
  },
  {
   "cell_type": "markdown",
   "metadata": {},
   "source": [
    "### **Step 9**\n",
    "\n",
    "The next step is to create a visualization of the molecular weight (y-axis) as a function of the GC-content (x-axis). I made the decision to hue the scatterplot by the species in order to give some additional information on the graph. "
   ]
  },
  {
   "cell_type": "code",
   "execution_count": 44,
   "metadata": {
    "scrolled": false
   },
   "outputs": [
    {
     "data": {
      "text/plain": [
       "Text(0.5, 1, 'Molecular weight and GC content')"
      ]
     },
     "execution_count": 44,
     "metadata": {},
     "output_type": "execute_result"
    },
    {
     "data": {
      "image/png": "[encoded data removed]",
      "text/plain": [
       "<Figure size 739.25x576 with 1 Axes>"
      ]
     },
     "metadata": {
      "needs_background": "light"
     },
     "output_type": "display_data"
    }
   ],
   "source": [
    "plot2 =sns.lmplot(x ='mol_weight', y= 'GC_content', data = penguins_df, \n",
    "           fit_reg=False, height=8, hue = 'species', scatter_kws={\"s\": 50})\n",
    "plot2.set_axis_labels('Molecular Weight (amu)', 'GC content')\n",
    "plt.title('Molecular weight and GC content')"
   ]
  },
  {
   "cell_type": "markdown",
   "metadata": {},
   "source": [
    "### **Step 10**\n",
    "\n",
    "The last step is to save the new DataFrame to a file called **penguins_mass_cytb.csv**\n",
    "\n",
    "I first called the dataframe just to make sure everything looked correct and there were not any 'NaN' values, and then wrote it into the same folder. I used a comma delimiated csv format for my .csv file, and told the program that it did in fact contain headers."
   ]
  },
  {
   "cell_type": "code",
   "execution_count": 45,
   "metadata": {
    "collapsed": true
   },
   "outputs": [
    {
     "data": {
      "text/html": [
       "<div>\n",
       "<style scoped>\n",
       "    .dataframe tbody tr th:only-of-type {\n",
       "        vertical-align: middle;\n",
       "    }\n",
       "\n",
       "    .dataframe tbody tr th {\n",
       "        vertical-align: top;\n",
       "    }\n",
       "\n",
       "    .dataframe thead th {\n",
       "        text-align: right;\n",
       "    }\n",
       "</style>\n",
       "<table border=\"1\" class=\"dataframe\">\n",
       "  <thead>\n",
       "    <tr style=\"text-align: right;\">\n",
       "      <th></th>\n",
       "      <th>species</th>\n",
       "      <th>mass</th>\n",
       "      <th>mol_weight</th>\n",
       "      <th>GC_content</th>\n",
       "    </tr>\n",
       "  </thead>\n",
       "  <tbody>\n",
       "    <tr>\n",
       "      <th>0</th>\n",
       "      <td>Aptenodytes forsteri</td>\n",
       "      <td>28.00</td>\n",
       "      <td>42459.6</td>\n",
       "      <td>48.3815</td>\n",
       "    </tr>\n",
       "    <tr>\n",
       "      <th>1</th>\n",
       "      <td>Aptenodytes patagonicus</td>\n",
       "      <td>13.40</td>\n",
       "      <td>42563.7</td>\n",
       "      <td>49.6938</td>\n",
       "    </tr>\n",
       "    <tr>\n",
       "      <th>2</th>\n",
       "      <td>Eudyptes chrysocome</td>\n",
       "      <td>2.80</td>\n",
       "      <td>42475.6</td>\n",
       "      <td>51.1811</td>\n",
       "    </tr>\n",
       "    <tr>\n",
       "      <th>3</th>\n",
       "      <td>Eudyptes chrysolophus</td>\n",
       "      <td>4.50</td>\n",
       "      <td>42445.5</td>\n",
       "      <td>50.9186</td>\n",
       "    </tr>\n",
       "    <tr>\n",
       "      <th>4</th>\n",
       "      <td>Eudyptes sclateri</td>\n",
       "      <td>4.25</td>\n",
       "      <td>42475.6</td>\n",
       "      <td>50.8311</td>\n",
       "    </tr>\n",
       "    <tr>\n",
       "      <th>5</th>\n",
       "      <td>Eudyptula minor</td>\n",
       "      <td>1.60</td>\n",
       "      <td>42491.6</td>\n",
       "      <td>49.2563</td>\n",
       "    </tr>\n",
       "    <tr>\n",
       "      <th>6</th>\n",
       "      <td>Pygoscelis adeliae</td>\n",
       "      <td>4.60</td>\n",
       "      <td>42458.6</td>\n",
       "      <td>49.0814</td>\n",
       "    </tr>\n",
       "    <tr>\n",
       "      <th>7</th>\n",
       "      <td>Pygoscelis antarctica</td>\n",
       "      <td>4.10</td>\n",
       "      <td>42404.5</td>\n",
       "      <td>47.769</td>\n",
       "    </tr>\n",
       "    <tr>\n",
       "      <th>8</th>\n",
       "      <td>Pygoscelis papua</td>\n",
       "      <td>6.10</td>\n",
       "      <td>42595.9</td>\n",
       "      <td>47.1566</td>\n",
       "    </tr>\n",
       "    <tr>\n",
       "      <th>9</th>\n",
       "      <td>Spheniscus demersus</td>\n",
       "      <td>3.20</td>\n",
       "      <td>42431.5</td>\n",
       "      <td>48.294</td>\n",
       "    </tr>\n",
       "    <tr>\n",
       "      <th>10</th>\n",
       "      <td>Spheniscus humboldti</td>\n",
       "      <td>4.75</td>\n",
       "      <td>42399.6</td>\n",
       "      <td>49.2563</td>\n",
       "    </tr>\n",
       "    <tr>\n",
       "      <th>11</th>\n",
       "      <td>Spheniscus magellanicus</td>\n",
       "      <td>3.40</td>\n",
       "      <td>42459.6</td>\n",
       "      <td>48.2065</td>\n",
       "    </tr>\n",
       "  </tbody>\n",
       "</table>\n",
       "</div>"
      ],
      "text/plain": [
       "                    species   mass mol_weight GC_content\n",
       "0      Aptenodytes forsteri  28.00    42459.6    48.3815\n",
       "1   Aptenodytes patagonicus  13.40    42563.7    49.6938\n",
       "2       Eudyptes chrysocome   2.80    42475.6    51.1811\n",
       "3     Eudyptes chrysolophus   4.50    42445.5    50.9186\n",
       "4         Eudyptes sclateri   4.25    42475.6    50.8311\n",
       "5           Eudyptula minor   1.60    42491.6    49.2563\n",
       "6        Pygoscelis adeliae   4.60    42458.6    49.0814\n",
       "7     Pygoscelis antarctica   4.10    42404.5     47.769\n",
       "8          Pygoscelis papua   6.10    42595.9    47.1566\n",
       "9       Spheniscus demersus   3.20    42431.5     48.294\n",
       "10     Spheniscus humboldti   4.75    42399.6    49.2563\n",
       "11  Spheniscus magellanicus   3.40    42459.6    48.2065"
      ]
     },
     "execution_count": 45,
     "metadata": {},
     "output_type": "execute_result"
    }
   ],
   "source": [
    "penguins_df"
   ]
  },
  {
   "cell_type": "code",
   "execution_count": 47,
   "metadata": {},
   "outputs": [],
   "source": [
    "penguins_df.to_csv('penguins_mass_cytb.csv', sep=',', header=True, index=None)"
   ]
  },
  {
   "cell_type": "markdown",
   "metadata": {},
   "source": [
    "### **Step 11**\n",
    "\n",
    "I wanted to create a function that finds the length of the sequences for each species. Then I added that to the **penguins_df** similarly to how I did so for the GC content and the molecular weight. I'm interested if all of the sequences are the same length or different lengths, as that changes the interpretation on the overall molecular weights for each species.\n",
    "\n",
    "**Conclusions:** I found that all of the sequences do in fact have the same length. Thus one can be confident when looking at the molecular weights the differences lie from nucelotide changes and not differences in the sequence size. I also saved this new penguins_df as a csv file titled **penguins_length.csv**\n"
   ]
  },
  {
   "cell_type": "code",
   "execution_count": 48,
   "metadata": {},
   "outputs": [],
   "source": [
    "def get_sequence_length (seq):\n",
    "    \"\"\"Description: finds the length of the sequence \n",
    "    \n",
    "    Parameter:\n",
    "        seq: the sequence object containing the sequence stored in it\n",
    "    Return:\n",
    "        the length of the sequence\n",
    "    \"\"\"\n",
    "    sequenceString = seq._data\n",
    "    length = len(sequenceString)\n",
    "    return length"
   ]
  },
  {
   "cell_type": "code",
   "execution_count": 51,
   "metadata": {},
   "outputs": [],
   "source": [
    "penguins_df['number_nucleotides'] = \"NaN\" #creating the empty column for the number of nucleotides to be inserted\n",
    "for key, value in cytb_seqs.items():\n",
    "    length = get_sequence_length(value)\n",
    "    #The values will now be filled into the correct column and row\n",
    "    row = penguins_df[penguins_df.species == key].index[0]\n",
    "    #filling in the number of nucleotides column\n",
    "    penguins_df.iloc[row, 4] = length"
   ]
  },
  {
   "cell_type": "code",
   "execution_count": 52,
   "metadata": {
    "scrolled": true
   },
   "outputs": [
    {
     "data": {
      "text/html": [
       "<div>\n",
       "<style scoped>\n",
       "    .dataframe tbody tr th:only-of-type {\n",
       "        vertical-align: middle;\n",
       "    }\n",
       "\n",
       "    .dataframe tbody tr th {\n",
       "        vertical-align: top;\n",
       "    }\n",
       "\n",
       "    .dataframe thead th {\n",
       "        text-align: right;\n",
       "    }\n",
       "</style>\n",
       "<table border=\"1\" class=\"dataframe\">\n",
       "  <thead>\n",
       "    <tr style=\"text-align: right;\">\n",
       "      <th></th>\n",
       "      <th>species</th>\n",
       "      <th>mass</th>\n",
       "      <th>mol_weight</th>\n",
       "      <th>GC_content</th>\n",
       "      <th>number_nucleotides</th>\n",
       "    </tr>\n",
       "  </thead>\n",
       "  <tbody>\n",
       "    <tr>\n",
       "      <th>0</th>\n",
       "      <td>Aptenodytes forsteri</td>\n",
       "      <td>28.00</td>\n",
       "      <td>42459.6</td>\n",
       "      <td>48.3815</td>\n",
       "      <td>1143</td>\n",
       "    </tr>\n",
       "    <tr>\n",
       "      <th>1</th>\n",
       "      <td>Aptenodytes patagonicus</td>\n",
       "      <td>13.40</td>\n",
       "      <td>42563.7</td>\n",
       "      <td>49.6938</td>\n",
       "      <td>1143</td>\n",
       "    </tr>\n",
       "    <tr>\n",
       "      <th>2</th>\n",
       "      <td>Eudyptes chrysocome</td>\n",
       "      <td>2.80</td>\n",
       "      <td>42475.6</td>\n",
       "      <td>51.1811</td>\n",
       "      <td>1143</td>\n",
       "    </tr>\n",
       "    <tr>\n",
       "      <th>3</th>\n",
       "      <td>Eudyptes chrysolophus</td>\n",
       "      <td>4.50</td>\n",
       "      <td>42445.5</td>\n",
       "      <td>50.9186</td>\n",
       "      <td>1143</td>\n",
       "    </tr>\n",
       "    <tr>\n",
       "      <th>4</th>\n",
       "      <td>Eudyptes sclateri</td>\n",
       "      <td>4.25</td>\n",
       "      <td>42475.6</td>\n",
       "      <td>50.8311</td>\n",
       "      <td>1143</td>\n",
       "    </tr>\n",
       "    <tr>\n",
       "      <th>5</th>\n",
       "      <td>Eudyptula minor</td>\n",
       "      <td>1.60</td>\n",
       "      <td>42491.6</td>\n",
       "      <td>49.2563</td>\n",
       "      <td>1143</td>\n",
       "    </tr>\n",
       "    <tr>\n",
       "      <th>6</th>\n",
       "      <td>Pygoscelis adeliae</td>\n",
       "      <td>4.60</td>\n",
       "      <td>42458.6</td>\n",
       "      <td>49.0814</td>\n",
       "      <td>1143</td>\n",
       "    </tr>\n",
       "    <tr>\n",
       "      <th>7</th>\n",
       "      <td>Pygoscelis antarctica</td>\n",
       "      <td>4.10</td>\n",
       "      <td>42404.5</td>\n",
       "      <td>47.769</td>\n",
       "      <td>1143</td>\n",
       "    </tr>\n",
       "    <tr>\n",
       "      <th>8</th>\n",
       "      <td>Pygoscelis papua</td>\n",
       "      <td>6.10</td>\n",
       "      <td>42595.9</td>\n",
       "      <td>47.1566</td>\n",
       "      <td>1143</td>\n",
       "    </tr>\n",
       "    <tr>\n",
       "      <th>9</th>\n",
       "      <td>Spheniscus demersus</td>\n",
       "      <td>3.20</td>\n",
       "      <td>42431.5</td>\n",
       "      <td>48.294</td>\n",
       "      <td>1143</td>\n",
       "    </tr>\n",
       "    <tr>\n",
       "      <th>10</th>\n",
       "      <td>Spheniscus humboldti</td>\n",
       "      <td>4.75</td>\n",
       "      <td>42399.6</td>\n",
       "      <td>49.2563</td>\n",
       "      <td>1143</td>\n",
       "    </tr>\n",
       "    <tr>\n",
       "      <th>11</th>\n",
       "      <td>Spheniscus magellanicus</td>\n",
       "      <td>3.40</td>\n",
       "      <td>42459.6</td>\n",
       "      <td>48.2065</td>\n",
       "      <td>1143</td>\n",
       "    </tr>\n",
       "  </tbody>\n",
       "</table>\n",
       "</div>"
      ],
      "text/plain": [
       "                    species   mass mol_weight GC_content  number_nucleotides\n",
       "0      Aptenodytes forsteri  28.00    42459.6    48.3815                1143\n",
       "1   Aptenodytes patagonicus  13.40    42563.7    49.6938                1143\n",
       "2       Eudyptes chrysocome   2.80    42475.6    51.1811                1143\n",
       "3     Eudyptes chrysolophus   4.50    42445.5    50.9186                1143\n",
       "4         Eudyptes sclateri   4.25    42475.6    50.8311                1143\n",
       "5           Eudyptula minor   1.60    42491.6    49.2563                1143\n",
       "6        Pygoscelis adeliae   4.60    42458.6    49.0814                1143\n",
       "7     Pygoscelis antarctica   4.10    42404.5     47.769                1143\n",
       "8          Pygoscelis papua   6.10    42595.9    47.1566                1143\n",
       "9       Spheniscus demersus   3.20    42431.5     48.294                1143\n",
       "10     Spheniscus humboldti   4.75    42399.6    49.2563                1143\n",
       "11  Spheniscus magellanicus   3.40    42459.6    48.2065                1143"
      ]
     },
     "execution_count": 52,
     "metadata": {},
     "output_type": "execute_result"
    }
   ],
   "source": [
    "penguins_df"
   ]
  },
  {
   "cell_type": "code",
   "execution_count": 53,
   "metadata": {},
   "outputs": [],
   "source": [
    "penguins_df.to_csv('penguins_length.csv', sep=',', header=True, index=None)"
   ]
  }
 ],
 "metadata": {
  "kernelspec": {
   "display_name": "Python 3",
   "language": "python",
   "name": "python3"
  },
  "language_info": {
   "codemirror_mode": {
    "name": "ipython",
    "version": 3
   },
   "file_extension": ".py",
   "mimetype": "text/x-python",
   "name": "python",
   "nbconvert_exporter": "python",
   "pygments_lexer": "ipython3",
   "version": "3.7.5"
  }
 },
 "nbformat": 4,
 "nbformat_minor": 2
}
